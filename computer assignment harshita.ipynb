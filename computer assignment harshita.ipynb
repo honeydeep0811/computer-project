{
 "cells": [
  {
   "cell_type": "code",
   "execution_count": 6,
   "id": "65065fac",
   "metadata": {},
   "outputs": [
    {
     "name": "stdout",
     "output_type": "stream",
     "text": [
      "Enter a number : 23\n",
      "23 is a prime number\n"
     ]
    }
   ],
   "source": [
    "#To Find whether the number entered is prime or not\n",
    "num=int(input(\"Enter a number : \"))\n",
    "flag = False\n",
    "if num >=1:\n",
    "    for i in range(2,num):\n",
    "        if(num%i)==0:\n",
    "            flag=True\n",
    "            break\n",
    "if(flag):\n",
    "    print(num, \"is not a prime number\")\n",
    "else:\n",
    "    print(num,\"is a prime number\")"
   ]
  },
  {
   "cell_type": "code",
   "execution_count": 7,
   "id": "8e4280ca",
   "metadata": {},
   "outputs": [
    {
     "name": "stdout",
     "output_type": "stream",
     "text": [
      "100\n",
      "99\n",
      "98\n",
      "97\n",
      "96\n",
      "95\n",
      "94\n",
      "93\n",
      "92\n",
      "91\n",
      "90\n",
      "89\n",
      "88\n",
      "87\n",
      "86\n",
      "85\n",
      "84\n",
      "83\n",
      "82\n",
      "81\n",
      "80\n",
      "79\n",
      "78\n",
      "77\n",
      "76\n",
      "75\n",
      "74\n",
      "73\n",
      "72\n",
      "71\n",
      "70\n",
      "69\n",
      "68\n",
      "67\n",
      "66\n",
      "65\n",
      "64\n",
      "63\n",
      "62\n",
      "61\n",
      "60\n",
      "59\n",
      "58\n",
      "57\n",
      "56\n",
      "55\n",
      "54\n",
      "53\n",
      "52\n",
      "51\n",
      "50\n",
      "49\n",
      "48\n",
      "47\n",
      "46\n",
      "45\n",
      "44\n",
      "43\n",
      "42\n",
      "41\n",
      "40\n",
      "39\n",
      "38\n",
      "37\n",
      "36\n",
      "35\n",
      "34\n",
      "33\n",
      "32\n",
      "31\n",
      "30\n",
      "29\n",
      "28\n",
      "27\n",
      "26\n",
      "25\n",
      "24\n",
      "23\n",
      "22\n",
      "21\n",
      "20\n",
      "19\n",
      "18\n",
      "17\n",
      "16\n",
      "15\n",
      "14\n",
      "13\n",
      "12\n",
      "11\n",
      "10\n",
      "9\n",
      "8\n",
      "7\n",
      "6\n",
      "5\n",
      "4\n",
      "3\n",
      "2\n",
      "1\n",
      "While loop ends here\n"
     ]
    }
   ],
   "source": [
    "#To Print 100 to 1 using while loop\n",
    "i=100\n",
    "while i>=1:\n",
    "    print(i)\n",
    "    i=i-1\n",
    "print(\"While loop ends here\")"
   ]
  },
  {
   "cell_type": "code",
   "execution_count": 12,
   "id": "fe320c6d",
   "metadata": {},
   "outputs": [
    {
     "name": "stdout",
     "output_type": "stream",
     "text": [
      "The sum of integers from 1 to 50 is 1275\n"
     ]
    }
   ],
   "source": [
    "#Find the sum of numbers within the range 50 to 1 using while loop\n",
    "sum=0\n",
    "a=50\n",
    "while(a>=1):\n",
    "    sum=sum+a\n",
    "    a=a-1\n",
    "print(\"The sum of integers from 1 to 50 is\",sum)\n"
   ]
  },
  {
   "cell_type": "code",
   "execution_count": 13,
   "id": "ddfee6a6",
   "metadata": {},
   "outputs": [
    {
     "name": "stdout",
     "output_type": "stream",
     "text": [
      "0\n",
      "2\n",
      "4\n",
      "6\n",
      "8\n",
      "10\n",
      "While loop ends here.\n"
     ]
    }
   ],
   "source": [
    "#To print even numbers from 0 to 10 using while loop\n",
    "i=0\n",
    "while(i<=10):\n",
    "    print(i)\n",
    "    i=i+2\n",
    "print(\"Even numbers from 0 to 10 are printed above.\")"
   ]
  },
  {
   "cell_type": "code",
   "execution_count": 14,
   "id": "c833d360",
   "metadata": {},
   "outputs": [
    {
     "name": "stdout",
     "output_type": "stream",
     "text": [
      "1 Harshita\n",
      "2 Harshita\n",
      "3 Harshita\n",
      "4 Harshita\n",
      "5 Harshita\n",
      "6 Harshita\n",
      "7 Harshita\n",
      "8 Harshita\n",
      "9 Harshita\n",
      "10 Harshita\n",
      "11 Harshita\n",
      "12 Harshita\n",
      "13 Harshita\n",
      "14 Harshita\n",
      "15 Harshita\n",
      "16 Harshita\n",
      "17 Harshita\n",
      "18 Harshita\n",
      "19 Harshita\n",
      "20 Harshita\n",
      "While loop ends here\n"
     ]
    }
   ],
   "source": [
    "#To print your name 20 times using while loop\n",
    "i=1\n",
    "while(i<=20):\n",
    "    print(i,\"Harshita\")\n",
    "    i=i+1\n",
    "print(\"While loop ends here\")"
   ]
  },
  {
   "cell_type": "code",
   "execution_count": null,
   "id": "d2152023",
   "metadata": {},
   "outputs": [],
   "source": []
  }
 ],
 "metadata": {
  "kernelspec": {
   "display_name": "Python 3",
   "language": "python",
   "name": "python3"
  },
  "language_info": {
   "codemirror_mode": {
    "name": "ipython",
    "version": 3
   },
   "file_extension": ".py",
   "mimetype": "text/x-python",
   "name": "python",
   "nbconvert_exporter": "python",
   "pygments_lexer": "ipython3",
   "version": "3.8.8"
  }
 },
 "nbformat": 4,
 "nbformat_minor": 5
}
